{
 "cells": [
  {
   "cell_type": "code",
   "execution_count": 2,
   "metadata": {},
   "outputs": [
    {
     "name": "stdout",
     "output_type": "stream",
     "text": [
      "'{\"result\":50.0}'\n"
     ]
    }
   ],
   "source": [
    "import requests\n",
    "import pprint\n",
    "\n",
    "param = {\n",
    "    'a': 25,\n",
    "    'b': 25\n",
    "}\n",
    "\n",
    "response = requests.post('http://127.0.0.1:8000/plus', json = param)\n",
    "pprint.pprint(response.text)\n"
   ]
  },
  {
   "cell_type": "code",
   "execution_count": 3,
   "metadata": {},
   "outputs": [
    {
     "name": "stdout",
     "output_type": "stream",
     "text": [
      "'{\"result\":0.0}'\n"
     ]
    }
   ],
   "source": [
    "import requests\n",
    "import pprint\n",
    "\n",
    "param = {\n",
    "    'a': 25,\n",
    "    'b': 25\n",
    "}\n",
    "\n",
    "response = requests.post('http://127.0.0.1:8000/minus', json = param)\n",
    "pprint.pprint(response.text)\n"
   ]
  },
  {
   "cell_type": "code",
   "execution_count": 4,
   "metadata": {},
   "outputs": [
    {
     "name": "stdout",
     "output_type": "stream",
     "text": [
      "'{\"result\":625.0}'\n"
     ]
    }
   ],
   "source": [
    "import requests\n",
    "import pprint\n",
    "\n",
    "param = {\n",
    "    'a': 25,\n",
    "    'b': 25\n",
    "}\n",
    "\n",
    "response = requests.post('http://127.0.0.1:8000/multiply', json = param)\n",
    "pprint.pprint(response.text)\n"
   ]
  },
  {
   "cell_type": "code",
   "execution_count": null,
   "metadata": {},
   "outputs": [
    {
     "name": "stdout",
     "output_type": "stream",
     "text": [
      "'{\"result\":2.0}'\n"
     ]
    }
   ],
   "source": [
    "import requests\n",
    "import pprint\n",
    "\n",
    "param = {\n",
    "    'a': 0,\n",
    "    'b': 0\n",
    "}\n",
    "\n",
    "response = requests.post('http://127.0.0.1:8000/divide', json = param)\n",
    "pprint.pprint(response.text)\n"
   ]
  }
 ],
 "metadata": {
  "kernelspec": {
   "display_name": ".venv",
   "language": "python",
   "name": "python3"
  },
  "language_info": {
   "codemirror_mode": {
    "name": "ipython",
    "version": 3
   },
   "file_extension": ".py",
   "mimetype": "text/x-python",
   "name": "python",
   "nbconvert_exporter": "python",
   "pygments_lexer": "ipython3",
   "version": "3.11.5"
  }
 },
 "nbformat": 4,
 "nbformat_minor": 2
}
